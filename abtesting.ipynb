{
 "cells": [
  {
   "cell_type": "code",
   "execution_count": 1,
   "id": "7ae9829f",
   "metadata": {
    "_cell_guid": "b1076dfc-b9ad-4769-8c92-a6c4dae69d19",
    "_uuid": "8f2839f25d086af736a60e9eeb907d3b93b6e0e5",
    "execution": {
     "iopub.execute_input": "2024-08-15T10:10:31.976886Z",
     "iopub.status.busy": "2024-08-15T10:10:31.976141Z",
     "iopub.status.idle": "2024-08-15T10:10:32.793833Z",
     "shell.execute_reply": "2024-08-15T10:10:32.792309Z"
    },
    "papermill": {
     "duration": 0.829049,
     "end_time": "2024-08-15T10:10:32.796755",
     "exception": false,
     "start_time": "2024-08-15T10:10:31.967706",
     "status": "completed"
    },
    "tags": []
   },
   "outputs": [
    {
     "name": "stdout",
     "output_type": "stream",
     "text": [
      "/kaggle/input/abtestingdata/ab_testing.xlsx\n"
     ]
    }
   ],
   "source": [
    "# This Python 3 environment comes with many helpful analytics libraries installed\n",
    "# It is defined by the kaggle/python Docker image: https://github.com/kaggle/docker-python\n",
    "# For example, here's several helpful packages to load\n",
    "\n",
    "import numpy as np # linear algebra\n",
    "import pandas as pd # data processing, CSV file I/O (e.g. pd.read_csv)\n",
    "\n",
    "# Input data files are available in the read-only \"../input/\" directory\n",
    "# For example, running this (by clicking run or pressing Shift+Enter) will list all files under the input directory\n",
    "\n",
    "import os\n",
    "for dirname, _, filenames in os.walk('/kaggle/input'):\n",
    "    for filename in filenames:\n",
    "        print(os.path.join(dirname, filename))\n",
    "\n",
    "# You can write up to 20GB to the current directory (/kaggle/working/) that gets preserved as output when you create a version using \"Save & Run All\" \n",
    "# You can also write temporary files to /kaggle/temp/, but they won't be saved outside of the current session"
   ]
  },
  {
   "cell_type": "markdown",
   "id": "27a3e321",
   "metadata": {
    "papermill": {
     "duration": 0.007608,
     "end_time": "2024-08-15T10:10:32.811473",
     "exception": false,
     "start_time": "2024-08-15T10:10:32.803865",
     "status": "completed"
    },
    "tags": []
   },
   "source": [
    "#####################################################\n",
    "# AB Testi ile BiddingYöntemlerinin Dönüşümünün Karşılaştırılması\n",
    "#####################################################\n",
    "\n",
    "#####################################################\n",
    "# İş Problemi\n",
    "#####################################################\n",
    "\n",
    " Facebook kısa süre önce mevcut \"maximumbidding\" adı verilen teklif verme türüne alternatif\n",
    " olarak yeni bir teklif türü olan \"average bidding\"’i tanıttı. Müşterilerimizden biri olanbombabomba.com,\n",
    " bu yeni özelliği test etmeye karar verdi veaveragebidding'in maximumbidding'den daha fazla dönüşüm\n",
    " getirip getirmediğini anlamak için birA/B testiyapmak istiyor.A/B testi 1 aydır devam ediyor ve\n",
    " bombabomba.com şimdi sizden bu A/B testinin sonuçlarını analiz etmenizi bekliyor.Bombabomba.com için\n",
    " nihai başarı ölçütü Purchase'dır. Bu nedenle, istatistiksel testler için Purchasemetriğine odaklanılmalıdır.\n",
    "\n",
    "\n",
    "#####################################################\n",
    "# Veri Seti Hikayesi\n",
    "#####################################################\n",
    "\n",
    " Bir firmanın web site bilgilerini içeren bu veri setinde kullanıcıların gördükleri ve tıkladıkları\n",
    " reklam sayıları gibi bilgilerin yanı sıra buradan gelen kazanç bilgileri yer almaktadır.Kontrol ve Test\n",
    " grubu olmak üzere iki ayrı veri seti vardır. Bu veri setleriab_testing.xlsxexcel’ininayrı sayfalarında yer\n",
    " almaktadır. Kontrol grubuna Maximum Bidding, test grubuna AverageBiddinguygulanmıştır.\n",
    "\n",
    " impression: Reklam görüntüleme sayısı\n",
    " Click: Görüntülenen reklama tıklama sayısı\n",
    " Purchase: Tıklanan reklamlar sonrası satın alınan ürün sayısı\n",
    " Earning: Satın alınan ürünler sonrası elde edilen kazanç\n",
    "\n",
    "\n",
    " Proje Görevleri\n",
    "\n",
    "\n",
    "\n",
    "# Görev 1:  Veriyi Hazırlama ve Analiz Etme\n",
    "\n",
    "\n",
    " Adım 1:  ab_testing_data.xlsx adlı kontrol ve test grubu verilerinden oluşan veri setini okutunuz. Kontrol ve test grubu verilerini ayrı değişkenlere atayınız."
   ]
  },
  {
   "cell_type": "code",
   "execution_count": 2,
   "id": "22ae1842",
   "metadata": {
    "execution": {
     "iopub.execute_input": "2024-08-15T10:10:32.826635Z",
     "iopub.status.busy": "2024-08-15T10:10:32.826049Z",
     "iopub.status.idle": "2024-08-15T10:10:33.707393Z",
     "shell.execute_reply": "2024-08-15T10:10:33.706258Z"
    },
    "papermill": {
     "duration": 0.89142,
     "end_time": "2024-08-15T10:10:33.709814",
     "exception": false,
     "start_time": "2024-08-15T10:10:32.818394",
     "status": "completed"
    },
    "tags": []
   },
   "outputs": [],
   "source": [
    "import pandas as pd\n",
    "import numpy as np\n",
    "import pandas as pd\n",
    "import matplotlib.pyplot as plt\n",
    "from scipy.stats import shapiro, levene, ttest_ind"
   ]
  },
  {
   "cell_type": "code",
   "execution_count": 3,
   "id": "241b17c8",
   "metadata": {
    "execution": {
     "iopub.execute_input": "2024-08-15T10:10:33.724889Z",
     "iopub.status.busy": "2024-08-15T10:10:33.724151Z",
     "iopub.status.idle": "2024-08-15T10:10:33.729328Z",
     "shell.execute_reply": "2024-08-15T10:10:33.728306Z"
    },
    "papermill": {
     "duration": 0.015065,
     "end_time": "2024-08-15T10:10:33.731453",
     "exception": false,
     "start_time": "2024-08-15T10:10:33.716388",
     "status": "completed"
    },
    "tags": []
   },
   "outputs": [],
   "source": [
    "pd.set_option('display.max_columns', None)\n",
    "pd.set_option('display.expand_frame_repr', False)\n",
    "pd.set_option('display.float_format', lambda x: '%.5f' % x)"
   ]
  },
  {
   "cell_type": "code",
   "execution_count": 4,
   "id": "5a048902",
   "metadata": {
    "execution": {
     "iopub.execute_input": "2024-08-15T10:10:33.745866Z",
     "iopub.status.busy": "2024-08-15T10:10:33.745495Z",
     "iopub.status.idle": "2024-08-15T10:10:34.059939Z",
     "shell.execute_reply": "2024-08-15T10:10:34.058888Z"
    },
    "papermill": {
     "duration": 0.324727,
     "end_time": "2024-08-15T10:10:34.062641",
     "exception": false,
     "start_time": "2024-08-15T10:10:33.737914",
     "status": "completed"
    },
    "tags": []
   },
   "outputs": [],
   "source": [
    "dataframe_control = pd.read_excel(\"/kaggle/input/abtestingdata/ab_testing.xlsx\" , sheet_name=\"Control Group\")"
   ]
  },
  {
   "cell_type": "code",
   "execution_count": 5,
   "id": "6272a60d",
   "metadata": {
    "execution": {
     "iopub.execute_input": "2024-08-15T10:10:34.077305Z",
     "iopub.status.busy": "2024-08-15T10:10:34.076802Z",
     "iopub.status.idle": "2024-08-15T10:10:34.179519Z",
     "shell.execute_reply": "2024-08-15T10:10:34.178499Z"
    },
    "papermill": {
     "duration": 0.113081,
     "end_time": "2024-08-15T10:10:34.182127",
     "exception": false,
     "start_time": "2024-08-15T10:10:34.069046",
     "status": "completed"
    },
    "tags": []
   },
   "outputs": [],
   "source": [
    "dataframe_test = pd.read_excel(\"/kaggle/input/abtestingdata/ab_testing.xlsx\" , sheet_name=\"Test Group\")\n"
   ]
  },
  {
   "cell_type": "code",
   "execution_count": 6,
   "id": "848284c2",
   "metadata": {
    "execution": {
     "iopub.execute_input": "2024-08-15T10:10:34.197455Z",
     "iopub.status.busy": "2024-08-15T10:10:34.196265Z",
     "iopub.status.idle": "2024-08-15T10:10:34.201518Z",
     "shell.execute_reply": "2024-08-15T10:10:34.200602Z"
    },
    "papermill": {
     "duration": 0.01514,
     "end_time": "2024-08-15T10:10:34.203808",
     "exception": false,
     "start_time": "2024-08-15T10:10:34.188668",
     "status": "completed"
    },
    "tags": []
   },
   "outputs": [],
   "source": [
    "df_control = dataframe_control.copy()\n",
    "df_test = dataframe_test.copy()"
   ]
  },
  {
   "cell_type": "markdown",
   "id": "880e7a40",
   "metadata": {
    "papermill": {
     "duration": 0.00605,
     "end_time": "2024-08-15T10:10:34.216348",
     "exception": false,
     "start_time": "2024-08-15T10:10:34.210298",
     "status": "completed"
    },
    "tags": []
   },
   "source": [
    "# Adım 2: Kontrol ve test grubu verilerini analiz ediniz."
   ]
  },
  {
   "cell_type": "code",
   "execution_count": 7,
   "id": "22f92fe7",
   "metadata": {
    "execution": {
     "iopub.execute_input": "2024-08-15T10:10:34.230457Z",
     "iopub.status.busy": "2024-08-15T10:10:34.230095Z",
     "iopub.status.idle": "2024-08-15T10:10:34.236565Z",
     "shell.execute_reply": "2024-08-15T10:10:34.235545Z"
    },
    "papermill": {
     "duration": 0.016194,
     "end_time": "2024-08-15T10:10:34.238854",
     "exception": false,
     "start_time": "2024-08-15T10:10:34.222660",
     "status": "completed"
    },
    "tags": []
   },
   "outputs": [],
   "source": [
    "def check_df(dataframe, head=5):\n",
    "    print(\"##################### Shape #####################\")\n",
    "    print(dataframe.shape)\n",
    "    print(\"##################### Types #####################\")\n",
    "    print(dataframe.dtypes)\n",
    "    print(\"##################### Head #####################\")\n",
    "    print(dataframe.head())\n",
    "    print(\"##################### Tail #####################\")\n",
    "    print(dataframe.tail())\n",
    "    print(\"##################### NA #####################\")\n",
    "    print(dataframe.isnull().sum())\n",
    "    print(\"##################### Quantiles #####################\")\n",
    "    print(dataframe.quantile([0, 0.05, 0.50, 0.95, 0.99, 1]).T)"
   ]
  },
  {
   "cell_type": "code",
   "execution_count": 8,
   "id": "bcd726f2",
   "metadata": {
    "execution": {
     "iopub.execute_input": "2024-08-15T10:10:34.253288Z",
     "iopub.status.busy": "2024-08-15T10:10:34.252944Z",
     "iopub.status.idle": "2024-08-15T10:10:34.272418Z",
     "shell.execute_reply": "2024-08-15T10:10:34.271348Z"
    },
    "papermill": {
     "duration": 0.029549,
     "end_time": "2024-08-15T10:10:34.274901",
     "exception": false,
     "start_time": "2024-08-15T10:10:34.245352",
     "status": "completed"
    },
    "tags": []
   },
   "outputs": [
    {
     "name": "stdout",
     "output_type": "stream",
     "text": [
      "##################### Shape #####################\n",
      "(40, 4)\n",
      "##################### Types #####################\n",
      "Impression    float64\n",
      "Click         float64\n",
      "Purchase      float64\n",
      "Earning       float64\n",
      "dtype: object\n",
      "##################### Head #####################\n",
      "    Impression      Click  Purchase    Earning\n",
      "0  82529.45927 6090.07732 665.21125 2311.27714\n",
      "1  98050.45193 3382.86179 315.08489 1742.80686\n",
      "2  82696.02355 4167.96575 458.08374 1797.82745\n",
      "3 109914.40040 4910.88224 487.09077 1696.22918\n",
      "4 108457.76263 5987.65581 441.03405 1543.72018\n",
      "##################### Tail #####################\n",
      "     Impression      Click  Purchase    Earning\n",
      "35 132064.21900 3747.15754 551.07241 2256.97559\n",
      "36  86409.94180 4608.25621 345.04603 1781.35769\n",
      "37 123678.93423 3649.07379 476.16813 2187.72122\n",
      "38 101997.49410 4736.35337 474.61354 2254.56383\n",
      "39 121085.88122 4285.17861 590.40602 1289.30895\n",
      "##################### NA #####################\n",
      "Impression    0\n",
      "Click         0\n",
      "Purchase      0\n",
      "Earning       0\n",
      "dtype: int64\n",
      "##################### Quantiles #####################\n",
      "               0.00000     0.05000     0.50000      0.95000      0.99000      1.00000\n",
      "Impression 45475.94296 79412.01792 99790.70108 132950.53245 143105.79110 147539.33633\n",
      "Click       2189.75316  3367.48426  5001.22060   7374.36120   7761.79511   7959.12507\n",
      "Purchase     267.02894   328.66242   531.20631    748.27076    790.18779    801.79502\n",
      "Earning     1253.98952  1329.57708  1975.16052   2318.52850   2481.30874   2497.29522\n"
     ]
    }
   ],
   "source": [
    "check_df(df_control)"
   ]
  },
  {
   "cell_type": "code",
   "execution_count": 9,
   "id": "a97d3529",
   "metadata": {
    "execution": {
     "iopub.execute_input": "2024-08-15T10:10:34.290243Z",
     "iopub.status.busy": "2024-08-15T10:10:34.289462Z",
     "iopub.status.idle": "2024-08-15T10:10:34.302673Z",
     "shell.execute_reply": "2024-08-15T10:10:34.301645Z"
    },
    "papermill": {
     "duration": 0.023279,
     "end_time": "2024-08-15T10:10:34.304968",
     "exception": false,
     "start_time": "2024-08-15T10:10:34.281689",
     "status": "completed"
    },
    "tags": []
   },
   "outputs": [
    {
     "name": "stdout",
     "output_type": "stream",
     "text": [
      "##################### Shape #####################\n",
      "(40, 4)\n",
      "##################### Types #####################\n",
      "Impression    float64\n",
      "Click         float64\n",
      "Purchase      float64\n",
      "Earning       float64\n",
      "dtype: object\n",
      "##################### Head #####################\n",
      "    Impression      Click  Purchase    Earning\n",
      "0 120103.50380 3216.54796 702.16035 1939.61124\n",
      "1 134775.94336 3635.08242 834.05429 2929.40582\n",
      "2 107806.62079 3057.14356 422.93426 2526.24488\n",
      "3 116445.27553 4650.47391 429.03353 2281.42857\n",
      "4 145082.51684 5201.38772 749.86044 2781.69752\n",
      "##################### Tail #####################\n",
      "     Impression      Click  Purchase    Earning\n",
      "35  79234.91193 6002.21358 382.04712 2277.86398\n",
      "36 130702.23941 3626.32007 449.82459 2530.84133\n",
      "37 116481.87337 4702.78247 472.45373 2597.91763\n",
      "38  79033.83492 4495.42818 425.35910 2595.85788\n",
      "39 102257.45409 4800.06832 521.31073 2967.51839\n",
      "##################### NA #####################\n",
      "Impression    0\n",
      "Click         0\n",
      "Purchase      0\n",
      "Earning       0\n",
      "dtype: int64\n",
      "##################### Quantiles #####################\n",
      "               0.00000     0.05000      0.50000      0.95000      0.99000      1.00000\n",
      "Impression 79033.83492 83150.50378 119291.30077 153178.69106 158245.26380 158605.92048\n",
      "Click       1836.62986  2600.36102   3931.35980   5271.18691   6012.87730   6019.69508\n",
      "Purchase     311.62952   356.69540    551.35573    854.20895    876.57610    889.91046\n",
      "Earning     1939.61124  2080.97621   2544.66611   2931.31145   3091.94089   3171.48971\n"
     ]
    }
   ],
   "source": [
    "check_df(df_test)"
   ]
  },
  {
   "cell_type": "markdown",
   "id": "8852a761",
   "metadata": {
    "papermill": {
     "duration": 0.006481,
     "end_time": "2024-08-15T10:10:34.318439",
     "exception": false,
     "start_time": "2024-08-15T10:10:34.311958",
     "status": "completed"
    },
    "tags": []
   },
   "source": [
    "# Adım 3: Analiz işleminden sonra concat metodunu kullanarak kontrol ve test grubu verilerini birleştiriniz."
   ]
  },
  {
   "cell_type": "code",
   "execution_count": 10,
   "id": "0df03814",
   "metadata": {
    "execution": {
     "iopub.execute_input": "2024-08-15T10:10:34.333620Z",
     "iopub.status.busy": "2024-08-15T10:10:34.333233Z",
     "iopub.status.idle": "2024-08-15T10:10:34.349002Z",
     "shell.execute_reply": "2024-08-15T10:10:34.348042Z"
    },
    "papermill": {
     "duration": 0.02601,
     "end_time": "2024-08-15T10:10:34.351212",
     "exception": false,
     "start_time": "2024-08-15T10:10:34.325202",
     "status": "completed"
    },
    "tags": []
   },
   "outputs": [
    {
     "data": {
      "text/html": [
       "<div>\n",
       "<style scoped>\n",
       "    .dataframe tbody tr th:only-of-type {\n",
       "        vertical-align: middle;\n",
       "    }\n",
       "\n",
       "    .dataframe tbody tr th {\n",
       "        vertical-align: top;\n",
       "    }\n",
       "\n",
       "    .dataframe thead th {\n",
       "        text-align: right;\n",
       "    }\n",
       "</style>\n",
       "<table border=\"1\" class=\"dataframe\">\n",
       "  <thead>\n",
       "    <tr style=\"text-align: right;\">\n",
       "      <th></th>\n",
       "      <th>Impression</th>\n",
       "      <th>Click</th>\n",
       "      <th>Purchase</th>\n",
       "      <th>Earning</th>\n",
       "      <th>group</th>\n",
       "    </tr>\n",
       "  </thead>\n",
       "  <tbody>\n",
       "    <tr>\n",
       "      <th>0</th>\n",
       "      <td>82529.45927</td>\n",
       "      <td>6090.07732</td>\n",
       "      <td>665.21125</td>\n",
       "      <td>2311.27714</td>\n",
       "      <td>control</td>\n",
       "    </tr>\n",
       "    <tr>\n",
       "      <th>1</th>\n",
       "      <td>98050.45193</td>\n",
       "      <td>3382.86179</td>\n",
       "      <td>315.08489</td>\n",
       "      <td>1742.80686</td>\n",
       "      <td>control</td>\n",
       "    </tr>\n",
       "    <tr>\n",
       "      <th>2</th>\n",
       "      <td>82696.02355</td>\n",
       "      <td>4167.96575</td>\n",
       "      <td>458.08374</td>\n",
       "      <td>1797.82745</td>\n",
       "      <td>control</td>\n",
       "    </tr>\n",
       "    <tr>\n",
       "      <th>3</th>\n",
       "      <td>109914.40040</td>\n",
       "      <td>4910.88224</td>\n",
       "      <td>487.09077</td>\n",
       "      <td>1696.22918</td>\n",
       "      <td>control</td>\n",
       "    </tr>\n",
       "    <tr>\n",
       "      <th>4</th>\n",
       "      <td>108457.76263</td>\n",
       "      <td>5987.65581</td>\n",
       "      <td>441.03405</td>\n",
       "      <td>1543.72018</td>\n",
       "      <td>control</td>\n",
       "    </tr>\n",
       "  </tbody>\n",
       "</table>\n",
       "</div>"
      ],
      "text/plain": [
       "    Impression      Click  Purchase    Earning    group\n",
       "0  82529.45927 6090.07732 665.21125 2311.27714  control\n",
       "1  98050.45193 3382.86179 315.08489 1742.80686  control\n",
       "2  82696.02355 4167.96575 458.08374 1797.82745  control\n",
       "3 109914.40040 4910.88224 487.09077 1696.22918  control\n",
       "4 108457.76263 5987.65581 441.03405 1543.72018  control"
      ]
     },
     "execution_count": 10,
     "metadata": {},
     "output_type": "execute_result"
    }
   ],
   "source": [
    "df_control[\"group\"] = \"control\"\n",
    "df_test[\"group\"] = \"test\"\n",
    "\n",
    "df = pd.concat([df_control,df_test], axis=0,ignore_index=False)\n",
    "df.head()"
   ]
  },
  {
   "cell_type": "code",
   "execution_count": 11,
   "id": "b9b66ba8",
   "metadata": {
    "execution": {
     "iopub.execute_input": "2024-08-15T10:10:34.368026Z",
     "iopub.status.busy": "2024-08-15T10:10:34.367095Z",
     "iopub.status.idle": "2024-08-15T10:10:34.377791Z",
     "shell.execute_reply": "2024-08-15T10:10:34.376835Z"
    },
    "papermill": {
     "duration": 0.020973,
     "end_time": "2024-08-15T10:10:34.379953",
     "exception": false,
     "start_time": "2024-08-15T10:10:34.358980",
     "status": "completed"
    },
    "tags": []
   },
   "outputs": [
    {
     "data": {
      "text/html": [
       "<div>\n",
       "<style scoped>\n",
       "    .dataframe tbody tr th:only-of-type {\n",
       "        vertical-align: middle;\n",
       "    }\n",
       "\n",
       "    .dataframe tbody tr th {\n",
       "        vertical-align: top;\n",
       "    }\n",
       "\n",
       "    .dataframe thead th {\n",
       "        text-align: right;\n",
       "    }\n",
       "</style>\n",
       "<table border=\"1\" class=\"dataframe\">\n",
       "  <thead>\n",
       "    <tr style=\"text-align: right;\">\n",
       "      <th></th>\n",
       "      <th>Impression</th>\n",
       "      <th>Click</th>\n",
       "      <th>Purchase</th>\n",
       "      <th>Earning</th>\n",
       "      <th>group</th>\n",
       "    </tr>\n",
       "  </thead>\n",
       "  <tbody>\n",
       "    <tr>\n",
       "      <th>35</th>\n",
       "      <td>79234.91193</td>\n",
       "      <td>6002.21358</td>\n",
       "      <td>382.04712</td>\n",
       "      <td>2277.86398</td>\n",
       "      <td>test</td>\n",
       "    </tr>\n",
       "    <tr>\n",
       "      <th>36</th>\n",
       "      <td>130702.23941</td>\n",
       "      <td>3626.32007</td>\n",
       "      <td>449.82459</td>\n",
       "      <td>2530.84133</td>\n",
       "      <td>test</td>\n",
       "    </tr>\n",
       "    <tr>\n",
       "      <th>37</th>\n",
       "      <td>116481.87337</td>\n",
       "      <td>4702.78247</td>\n",
       "      <td>472.45373</td>\n",
       "      <td>2597.91763</td>\n",
       "      <td>test</td>\n",
       "    </tr>\n",
       "    <tr>\n",
       "      <th>38</th>\n",
       "      <td>79033.83492</td>\n",
       "      <td>4495.42818</td>\n",
       "      <td>425.35910</td>\n",
       "      <td>2595.85788</td>\n",
       "      <td>test</td>\n",
       "    </tr>\n",
       "    <tr>\n",
       "      <th>39</th>\n",
       "      <td>102257.45409</td>\n",
       "      <td>4800.06832</td>\n",
       "      <td>521.31073</td>\n",
       "      <td>2967.51839</td>\n",
       "      <td>test</td>\n",
       "    </tr>\n",
       "  </tbody>\n",
       "</table>\n",
       "</div>"
      ],
      "text/plain": [
       "     Impression      Click  Purchase    Earning group\n",
       "35  79234.91193 6002.21358 382.04712 2277.86398  test\n",
       "36 130702.23941 3626.32007 449.82459 2530.84133  test\n",
       "37 116481.87337 4702.78247 472.45373 2597.91763  test\n",
       "38  79033.83492 4495.42818 425.35910 2595.85788  test\n",
       "39 102257.45409 4800.06832 521.31073 2967.51839  test"
      ]
     },
     "execution_count": 11,
     "metadata": {},
     "output_type": "execute_result"
    }
   ],
   "source": [
    "df.tail()"
   ]
  },
  {
   "cell_type": "markdown",
   "id": "14d7d60d",
   "metadata": {
    "papermill": {
     "duration": 0.006859,
     "end_time": "2024-08-15T10:10:34.394795",
     "exception": false,
     "start_time": "2024-08-15T10:10:34.387936",
     "status": "completed"
    },
    "tags": []
   },
   "source": [
    "# Görev 2:  A/B Testinin Hipotezinin Tanımlanması\n",
    "#####################################################\n",
    "\n",
    "# Adım 1: Hipotezi tanımlayınız.\n",
    "\n",
    " H0 : M1 = M2 (Kontrol grubu ve test grubu satın alma ortalamaları arasında fark yoktur.)\n",
    " H1 : M1!= M2 (Kontrol grubu ve test grubu satın alma ortalamaları arasında fark vardır.)\n",
    "\n",
    "\n"
   ]
  },
  {
   "cell_type": "markdown",
   "id": "bce87ef2",
   "metadata": {
    "papermill": {
     "duration": 0.006809,
     "end_time": "2024-08-15T10:10:34.408818",
     "exception": false,
     "start_time": "2024-08-15T10:10:34.402009",
     "status": "completed"
    },
    "tags": []
   },
   "source": [
    "# Adım 2: Kontrol ve test grubu için purchase(kazanç) ortalamalarını analiz ediniz"
   ]
  },
  {
   "cell_type": "code",
   "execution_count": 12,
   "id": "4f5ca93c",
   "metadata": {
    "execution": {
     "iopub.execute_input": "2024-08-15T10:10:34.424270Z",
     "iopub.status.busy": "2024-08-15T10:10:34.423900Z",
     "iopub.status.idle": "2024-08-15T10:10:34.440084Z",
     "shell.execute_reply": "2024-08-15T10:10:34.439040Z"
    },
    "papermill": {
     "duration": 0.026495,
     "end_time": "2024-08-15T10:10:34.442291",
     "exception": false,
     "start_time": "2024-08-15T10:10:34.415796",
     "status": "completed"
    },
    "tags": []
   },
   "outputs": [
    {
     "data": {
      "text/html": [
       "<div>\n",
       "<style scoped>\n",
       "    .dataframe tbody tr th:only-of-type {\n",
       "        vertical-align: middle;\n",
       "    }\n",
       "\n",
       "    .dataframe tbody tr th {\n",
       "        vertical-align: top;\n",
       "    }\n",
       "\n",
       "    .dataframe thead th {\n",
       "        text-align: right;\n",
       "    }\n",
       "</style>\n",
       "<table border=\"1\" class=\"dataframe\">\n",
       "  <thead>\n",
       "    <tr style=\"text-align: right;\">\n",
       "      <th></th>\n",
       "      <th>Purchase</th>\n",
       "    </tr>\n",
       "    <tr>\n",
       "      <th>group</th>\n",
       "      <th></th>\n",
       "    </tr>\n",
       "  </thead>\n",
       "  <tbody>\n",
       "    <tr>\n",
       "      <th>control</th>\n",
       "      <td>550.89406</td>\n",
       "    </tr>\n",
       "    <tr>\n",
       "      <th>test</th>\n",
       "      <td>582.10610</td>\n",
       "    </tr>\n",
       "  </tbody>\n",
       "</table>\n",
       "</div>"
      ],
      "text/plain": [
       "         Purchase\n",
       "group            \n",
       "control 550.89406\n",
       "test    582.10610"
      ]
     },
     "execution_count": 12,
     "metadata": {},
     "output_type": "execute_result"
    }
   ],
   "source": [
    "df.groupby(\"group\").agg({\"Purchase\": \"mean\"})"
   ]
  },
  {
   "cell_type": "markdown",
   "id": "73e08ded",
   "metadata": {
    "papermill": {
     "duration": 0.00696,
     "end_time": "2024-08-15T10:10:34.456647",
     "exception": false,
     "start_time": "2024-08-15T10:10:34.449687",
     "status": "completed"
    },
    "tags": []
   },
   "source": [
    "# GÖREV 3: Hipotez Testinin Gerçekleştirilmesi\n"
   ]
  },
  {
   "cell_type": "markdown",
   "id": "2290ebd3",
   "metadata": {
    "papermill": {
     "duration": 0.006829,
     "end_time": "2024-08-15T10:10:34.470655",
     "exception": false,
     "start_time": "2024-08-15T10:10:34.463826",
     "status": "completed"
    },
    "tags": []
   },
   "source": [
    "** Adım 1: Hipotez testi yapılmadan önce varsayım kontrollerini yapınız.Bunlar Normallik Varsayımı ve Varyans Homojenliğidir.**\n",
    "\n",
    "*  Kontrol ve test grubunun normallik varsayımına uyup uymadığını Purchase değişkeni üzerinden ayrı ayrı test ediniz\n",
    "*  Normallik Varsayımı :\n",
    "*  H0: Normal dağılım varsayımı sağlanmaktadır.\n",
    "*  H1: Normal dağılım varsayımı sağlanmamaktadır\n",
    "*  p < 0.05 H0 RED\n",
    "*  p > 0.05 H0 REDDEDİLEMEZ\n",
    "*  Test sonucuna göre normallik varsayımı kontrol ve test grupları için sağlanıyor mu ?\n",
    "*  Elde edilen p-valuedeğerlerini yorumlayınız."
   ]
  },
  {
   "cell_type": "code",
   "execution_count": 13,
   "id": "9d806678",
   "metadata": {
    "execution": {
     "iopub.execute_input": "2024-08-15T10:10:34.486788Z",
     "iopub.status.busy": "2024-08-15T10:10:34.486402Z",
     "iopub.status.idle": "2024-08-15T10:10:34.494325Z",
     "shell.execute_reply": "2024-08-15T10:10:34.493350Z"
    },
    "papermill": {
     "duration": 0.018948,
     "end_time": "2024-08-15T10:10:34.496974",
     "exception": false,
     "start_time": "2024-08-15T10:10:34.478026",
     "status": "completed"
    },
    "tags": []
   },
   "outputs": [
    {
     "name": "stdout",
     "output_type": "stream",
     "text": [
      "Test Stat = 0.9773, p-value = 0.5891\n"
     ]
    }
   ],
   "source": [
    "test_stat, pvalue = shapiro(df.loc[df[\"group\"] == \"control\", \"Purchase\"])\n",
    "print('Test Stat = %.4f, p-value = %.4f' % (test_stat, pvalue))"
   ]
  },
  {
   "cell_type": "markdown",
   "id": "77570c89",
   "metadata": {
    "papermill": {
     "duration": 0.006889,
     "end_time": "2024-08-15T10:10:34.511233",
     "exception": false,
     "start_time": "2024-08-15T10:10:34.504344",
     "status": "completed"
    },
    "tags": []
   },
   "source": [
    "*  p-value=0.5891\n",
    "*  HO reddedilemez. \n",
    "*  Control grubunun değerleri normal dağılım varsayımını sağlamaktadır.\n",
    "*  Varyanslar Homojendir."
   ]
  },
  {
   "cell_type": "markdown",
   "id": "b26ee98d",
   "metadata": {
    "papermill": {
     "duration": 0.007295,
     "end_time": "2024-08-15T10:10:34.525877",
     "exception": false,
     "start_time": "2024-08-15T10:10:34.518582",
     "status": "completed"
    },
    "tags": []
   },
   "source": [
    "*  Varyans Homojenliği :\n",
    "*  H0: Varyanslarhomojendir.\n",
    "*  H1: Varyanslarhomojen Değildir.\n",
    "*  p < 0.05 H0 RED\n",
    "*  p > 0.05 H0 REDDEDİLEMEZ\n",
    "*  Kontrol ve test grubu için varyans homojenliğinin sağlanıp sağlanmadığını Purchase değişkeni üzerinden test ediniz.\n",
    "*  Test sonucuna göre normallik varsayımı sağlanıyor mu? Elde edilen p-valuedeğerlerini yorumlayınız."
   ]
  },
  {
   "cell_type": "code",
   "execution_count": 14,
   "id": "183cdec7",
   "metadata": {
    "execution": {
     "iopub.execute_input": "2024-08-15T10:10:34.542366Z",
     "iopub.status.busy": "2024-08-15T10:10:34.541374Z",
     "iopub.status.idle": "2024-08-15T10:10:34.551787Z",
     "shell.execute_reply": "2024-08-15T10:10:34.550555Z"
    },
    "papermill": {
     "duration": 0.020996,
     "end_time": "2024-08-15T10:10:34.553974",
     "exception": false,
     "start_time": "2024-08-15T10:10:34.532978",
     "status": "completed"
    },
    "tags": []
   },
   "outputs": [
    {
     "name": "stdout",
     "output_type": "stream",
     "text": [
      "Test Stat = 2.6393, p-value = 0.1083\n"
     ]
    }
   ],
   "source": [
    "test_stat, pvalue = levene(df.loc[df[\"group\"] == \"control\", \"Purchase\"],\n",
    "                           df.loc[df[\"group\"] == \"test\", \"Purchase\"])\n",
    "print('Test Stat = %.4f, p-value = %.4f' % (test_stat, pvalue))"
   ]
  },
  {
   "cell_type": "markdown",
   "id": "0d3d9c60",
   "metadata": {
    "papermill": {
     "duration": 0.006975,
     "end_time": "2024-08-15T10:10:34.568557",
     "exception": false,
     "start_time": "2024-08-15T10:10:34.561582",
     "status": "completed"
    },
    "tags": []
   },
   "source": [
    "* HO reddedilemez. Control ve Test grubunun değerleri varyans homejenliği varsayımını sağlamaktadır.\n",
    "* Varyanslar Homojendir."
   ]
  },
  {
   "cell_type": "markdown",
   "id": "ee5cf200",
   "metadata": {
    "papermill": {
     "duration": 0.007066,
     "end_time": "2024-08-15T10:10:34.583382",
     "exception": false,
     "start_time": "2024-08-15T10:10:34.576316",
     "status": "completed"
    },
    "tags": []
   },
   "source": [
    "# Adım 2: Normallik Varsayımı ve Varyans Homojenliği sonuçlarına göre uygun testi seçiniz"
   ]
  },
  {
   "cell_type": "markdown",
   "id": "584e143e",
   "metadata": {
    "papermill": {
     "duration": 0.00713,
     "end_time": "2024-08-15T10:10:34.597844",
     "exception": false,
     "start_time": "2024-08-15T10:10:34.590714",
     "status": "completed"
    },
    "tags": []
   },
   "source": [
    "* Varsayımlar sağlandığı için bağımsız iki örneklem t testi (parametrik test) yapılmaktadır.\n",
    "*  H0: M1 = M2 (Kontrol grubu ve test grubu satın alma ortalamaları arasında ist. ol.anl.fark yoktur.)\n",
    "*  H1: M1 != M2 (Kontrol grubu ve test grubu satın alma ortalamaları arasında ist. ol.anl.fark vardır)\n",
    "*  p<0.05 HO RED , p>0.05 HO REDDEDİLEMEZ"
   ]
  },
  {
   "cell_type": "code",
   "execution_count": 15,
   "id": "583fbfe2",
   "metadata": {
    "execution": {
     "iopub.execute_input": "2024-08-15T10:10:34.614355Z",
     "iopub.status.busy": "2024-08-15T10:10:34.613987Z",
     "iopub.status.idle": "2024-08-15T10:10:34.625260Z",
     "shell.execute_reply": "2024-08-15T10:10:34.624206Z"
    },
    "papermill": {
     "duration": 0.022466,
     "end_time": "2024-08-15T10:10:34.627784",
     "exception": false,
     "start_time": "2024-08-15T10:10:34.605318",
     "status": "completed"
    },
    "tags": []
   },
   "outputs": [
    {
     "name": "stdout",
     "output_type": "stream",
     "text": [
      "Test Stat = -0.9416, p-value = 0.3493\n"
     ]
    }
   ],
   "source": [
    "test_stat, pvalue = ttest_ind(df.loc[df[\"group\"] == \"control\", \"Purchase\"],\n",
    "                              df.loc[df[\"group\"] == \"test\", \"Purchase\"],\n",
    "                              equal_var=True)\n",
    "print('Test Stat = %.4f, p-value = %.4f' % (test_stat, pvalue))"
   ]
  },
  {
   "cell_type": "markdown",
   "id": "3ae65844",
   "metadata": {
    "papermill": {
     "duration": 0.007079,
     "end_time": "2024-08-15T10:10:34.642476",
     "exception": false,
     "start_time": "2024-08-15T10:10:34.635397",
     "status": "completed"
    },
    "tags": []
   },
   "source": [
    "#  Adım 3: Test sonucunda elde edilen p_valuedeğerini göz önünde bulundurarak kontrol ve test grubu satın alma\n",
    "#  ortalamaları arasında istatistiki olarak anlamlı bir fark olup olmadığını yorumlayınız."
   ]
  },
  {
   "cell_type": "markdown",
   "id": "c24c476a",
   "metadata": {
    "papermill": {
     "duration": 0.007032,
     "end_time": "2024-08-15T10:10:34.656902",
     "exception": false,
     "start_time": "2024-08-15T10:10:34.649870",
     "status": "completed"
    },
    "tags": []
   },
   "source": [
    "*  p-value=0.3493\n",
    "*  HO reddedilemez. Kontrol ve test grubu satın alma ortalamaları arasında istatistiksel olarak anlamlı farklılık yoktur."
   ]
  },
  {
   "cell_type": "markdown",
   "id": "0b5ab2b2",
   "metadata": {
    "papermill": {
     "duration": 0.007503,
     "end_time": "2024-08-15T10:10:34.672172",
     "exception": false,
     "start_time": "2024-08-15T10:10:34.664669",
     "status": "completed"
    },
    "tags": []
   },
   "source": [
    "##############################################################\n",
    "# GÖREV 4 : Sonuçların Analizi\n",
    "##############################################################\n",
    "\n",
    " Adım 1: Hangi testi kullandınız, sebeplerini belirtiniz.\n",
    "\n",
    "\n",
    " Adım 2: Elde ettiğiniz test sonuçlarına göre müşteriye tavsiyede bulununuz."
   ]
  }
 ],
 "metadata": {
  "kaggle": {
   "accelerator": "none",
   "dataSources": [
    {
     "datasetId": 5546818,
     "sourceId": 9177790,
     "sourceType": "datasetVersion"
    }
   ],
   "dockerImageVersionId": 30746,
   "isGpuEnabled": false,
   "isInternetEnabled": true,
   "language": "python",
   "sourceType": "notebook"
  },
  "kernelspec": {
   "display_name": "Python 3",
   "language": "python",
   "name": "python3"
  },
  "language_info": {
   "codemirror_mode": {
    "name": "ipython",
    "version": 3
   },
   "file_extension": ".py",
   "mimetype": "text/x-python",
   "name": "python",
   "nbconvert_exporter": "python",
   "pygments_lexer": "ipython3",
   "version": "3.10.13"
  },
  "papermill": {
   "default_parameters": {},
   "duration": 6.018164,
   "end_time": "2024-08-15T10:10:35.300212",
   "environment_variables": {},
   "exception": null,
   "input_path": "__notebook__.ipynb",
   "output_path": "__notebook__.ipynb",
   "parameters": {},
   "start_time": "2024-08-15T10:10:29.282048",
   "version": "2.5.0"
  }
 },
 "nbformat": 4,
 "nbformat_minor": 5
}
